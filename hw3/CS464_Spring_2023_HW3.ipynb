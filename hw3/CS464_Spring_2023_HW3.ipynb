{
  "cells": [
    {
      "cell_type": "markdown",
      "metadata": {
        "id": "YmlJ7FFJGA3k"
      },
      "source": [
        "**<h1><center>CS 464</center></h1>**\n",
        "**<h1><center>Introduction to Machine Learning</center></h1>**\n",
        "**<h1><center>Spring 2023</center></h1>**\n",
        "**<h1><center>Homework 3</center></h1>**\n",
        "<h4><center>Due: June 08, 2023 23:59 (GMT+3)</center></h4>"
      ]
    },
    {
      "cell_type": "markdown",
      "metadata": {
        "id": "kUQigqxM4JlE"
      },
      "source": [
        "## **MNIST RGB Inpainting**"
      ]
    },
    {
      "cell_type": "markdown",
      "source": [
        "### **Homework Description**"
      ],
      "metadata": {
        "id": "4JLXD3sTR8Yv"
      }
    },
    {
      "cell_type": "markdown",
      "source": [
        "In this assignment, you are asked to design and train two different neural network models for image the inpainting task. In short, inpainting is a process of filling in the missing parts of an image. You will be applying this task on the MNIST RGB dataset, which is created for this homework by processing a subset of the original [MNIST](http://yann.lecun.com/exdb/mnist/) images. It contains RGB digit images from 0 to 1 colored in black, red, blue, or green. You can see a subset of the dataset below. The download link of the dataset is provided in the following parts.\n",
        "\n",
        "![MNIST RGB Samples](https://drive.google.com/uc?export=view&id=1uy0VENXeb6If-i3uxgDVtnk4qDj7eq_3)\n",
        "\n",
        "**Using PyTorch is mandatory** for this assignment. You are requested to **submit only a single *.ipynb file** in your submissions (no report needed). If you want to provide further explanations about your work, you can add Markdown cells for this purpose. From [this link](https://www.markdownguide.org/), you can get familiar with the Markdown syntax if you need. Upload your homework with the following filename convention: **\\<BilkentID\\>\\_\\<Name\\>\\_\\<Surname\\>.ipynb**\n",
        "\n",
        "Note that this assignment needs a CUDA-enabled GPU to be able to train the models in a reasonable time. If you do not have one, it is suggested to use the [Colab](https://colab.research.google.com/) environment.\n",
        "\n",
        "**Contact:** [Ahmet Burak Yıldırım](mailto:a.yildirim@bilkent.edu.tr)"
      ],
      "metadata": {
        "id": "EFNaqLRzD75v"
      }
    },
    {
      "cell_type": "markdown",
      "source": [
        "### **Importing the Libraries**"
      ],
      "metadata": {
        "id": "rMvuukCeSkRE"
      }
    },
    {
      "cell_type": "markdown",
      "source": [
        "In the cell below,  some utilities that you can make use of in this assignment are imported. You can edit these imports considering your implementation as long as you use PyTorch."
      ],
      "metadata": {
        "id": "bcipuzDyJyMT"
      }
    },
    {
      "cell_type": "code",
      "source": [
        "import torch\n",
        "from torch import nn, optim\n",
        "from torch.utils.data import DataLoader, Dataset\n",
        "import torchvision\n",
        "from torchvision import transforms\n",
        "from PIL import Image\n",
        "from tqdm import tqdm\n",
        "import matplotlib.pyplot as plt\n",
        "import seaborn as sns\n",
        "import numpy as np\n",
        "import random\n",
        "import os"
      ],
      "metadata": {
        "id": "7v0OO4-6SmNV"
      },
      "execution_count": null,
      "outputs": []
    },
    {
      "cell_type": "markdown",
      "source": [
        "### **Environment Check**"
      ],
      "metadata": {
        "id": "vLoc5OoAKDtr"
      }
    },
    {
      "cell_type": "markdown",
      "source": [
        "In the cell below, you can test whether hardware acceleration with GPU is enabled in your machine or not. If it is enabled, the printed device should be 'cuda'. \n",
        "\n",
        "**Do not change the cell**."
      ],
      "metadata": {
        "id": "KfGyOffcKG7u"
      }
    },
    {
      "cell_type": "code",
      "source": [
        "device = torch.device('cuda' if torch.cuda.is_available() else 'cpu')\n",
        "print('Current device:', device)\n",
        "\n",
        "if device.type == 'cuda':\n",
        "    print('GPU Name:', torch.cuda.get_device_name(0))\n",
        "    print('Total GPU Memory:', round(torch.cuda.get_device_properties(0).total_memory/1024**3,1), 'GB')"
      ],
      "metadata": {
        "id": "KaTYscuOLbjc"
      },
      "execution_count": null,
      "outputs": []
    },
    {
      "cell_type": "markdown",
      "source": [
        "### **Setting Library Seeds for Reproducibility**"
      ],
      "metadata": {
        "id": "BBK2IftRSvHf"
      }
    },
    {
      "cell_type": "markdown",
      "source": [
        "To make a fair evaluation, the seed values are set for random sampling methods in PyTorch, NumPy, and Python random library. \n",
        "\n",
        "**Do not change the cell**"
      ],
      "metadata": {
        "id": "cOZICZTbMc2-"
      }
    },
    {
      "cell_type": "code",
      "source": [
        "def seed_everything(seed):\n",
        "    random.seed(seed)\n",
        "    np.random.seed(seed)\n",
        "    torch.manual_seed(seed)\n",
        "    torch.cuda.manual_seed(seed)\n",
        "    torch.backends.cudnn.deterministic = True"
      ],
      "metadata": {
        "id": "3M5lcMwQStjy"
      },
      "execution_count": null,
      "outputs": []
    },
    {
      "cell_type": "code",
      "source": [
        "seed_everything(464)"
      ],
      "metadata": {
        "id": "DJ1GUeFfSzN_"
      },
      "execution_count": null,
      "outputs": []
    },
    {
      "cell_type": "markdown",
      "source": [
        "### **Preparing the Dataset**"
      ],
      "metadata": {
        "id": "h60dtOt5R_aE"
      }
    },
    {
      "cell_type": "markdown",
      "source": [
        "The MNIST RGB dataset is downloadable from [this link](https://drive.google.com/file/d/1xl5Ie_1c3dIg-Y0uXsgbCYEEmDfQxadZ/view?usp=share_link). If you are using Colab or a Linux machine, you can uncomment and run the below cell to download and extract the dataset automatically."
      ],
      "metadata": {
        "id": "Dzcz2jwcNKfK"
      }
    },
    {
      "cell_type": "code",
      "source": [
        "# import gdown # Library to download files from Google Drive\n",
        "# !gdown 1xl5Ie_1c3dIg-Y0uXsgbCYEEmDfQxadZ # Google Drive ID of the zip file to be downloaded\n",
        "# !unzip -oq mnist_dataset_rgb # Unzip the file downloaded. Options -o and -q overwrites the files if exists already and disables printing out the extracted files, respectively."
      ],
      "metadata": {
        "id": "85HQtprVSD3p"
      },
      "execution_count": null,
      "outputs": []
    },
    {
      "cell_type": "markdown",
      "source": [
        "### **Implementing a Custom Dataset [20 Points]**"
      ],
      "metadata": {
        "id": "ZhEiiIYxTBi9"
      }
    },
    {
      "cell_type": "markdown",
      "source": [
        "In this part, you are requested to implement a custom PyTorch dataset class that reads MNIST RGB images from a dataset split folder. There are two split folders called training and test in the dataset. The model class should take the root directory of a split in the \\_\\_init\\_\\_ function and read the images accordingly. Before returning the requested images, you should apply the following steps:\n",
        "\n",
        "* Apply bicubic interpolation using PIL to resize the images from (28,28) to (32,32) resolution.\n",
        "* Convert images to Tensor object\n",
        "* Normalize tensor values to scale them in the range of (-1,1)\n",
        "\n",
        "Note that reading images in the \\_\\_getitem\\_\\_ function makes the training process slow for this dataset because reading such small-sized images as a batch is slower than the forward pass process of a simple neural network. Therefore, it is suggested to read and store the images in an array in the \\_\\_init\\_\\_ function and return them in the \\_\\_getitem\\_\\_ function when they are requested by the DataLoader object."
      ],
      "metadata": {
        "id": "zGpUjWbWOBpJ"
      }
    },
    {
      "cell_type": "code",
      "source": [
        "class MnistDataset(Dataset):\n",
        "    def __init__(self, root_dir):\n",
        "        pass # TODO\n",
        "\n",
        "    def __len__(self):\n",
        "        pass # TODO\n",
        "\n",
        "    def __getitem__(self, data_id):\n",
        "        pass # TODO"
      ],
      "metadata": {
        "id": "ongUJiujS_UE"
      },
      "execution_count": null,
      "outputs": []
    },
    {
      "cell_type": "markdown",
      "source": [
        "Create a dataset and a data loader object for training and test splits. Set batch sizes to 64 and 512 for training and test data loaders, respectively. Enable shuffling in the training data loader and disable it in the test data loader."
      ],
      "metadata": {
        "id": "sqaS0ePeWzd3"
      }
    },
    {
      "cell_type": "code",
      "source": [
        "train_dataset = None # TODO\n",
        "train_dataloader = None # TODO\n",
        "\n",
        "test_dataset = None # TODO\n",
        "test_dataloader = None # TODO"
      ],
      "metadata": {
        "id": "g-RUAYGdTuVn"
      },
      "execution_count": null,
      "outputs": []
    },
    {
      "cell_type": "markdown",
      "source": [
        "**Do not change** the below code. If your implementation is correct, you should be seeing a grid of MNIST RGB images properly."
      ],
      "metadata": {
        "id": "XqYREQNbpQeR"
      }
    },
    {
      "cell_type": "code",
      "source": [
        "## Uncomment the cell when the dataloader is ready\n",
        "\n",
        "# images = next(iter(train_dataloader))\n",
        "# images = (images + 1) / 2\n",
        "# grid_img = torchvision.utils.make_grid(images[:20], nrow=10)\n",
        "# plt.axis('off')\n",
        "# plt.imshow(grid_img.permute(1, 2, 0))\n",
        "# plt.show()"
      ],
      "metadata": {
        "id": "ZnVU_VccT-Yi"
      },
      "execution_count": null,
      "outputs": []
    },
    {
      "cell_type": "markdown",
      "metadata": {
        "id": "Qx_XrpE44TlW"
      },
      "source": [
        "### **Constructing Autoencoder Networks [30 Points]**"
      ]
    },
    {
      "cell_type": "markdown",
      "source": [
        "Autoencoder networks learn how to compress and reconstruct input data. It consists of two subnetworks called the encoder and the decoder. The encoder network compresses the input data, and the decoder network regenerates the data from its compressed version. In this part of the homework, you are requested to implement two different autoencoder networks, which are fully connected and convolutional autoencoders."
      ],
      "metadata": {
        "id": "EC8HgZSPmUhS"
      }
    },
    {
      "cell_type": "markdown",
      "source": [
        "#### **Fully Connected Autoencoder [15 Points]**"
      ],
      "metadata": {
        "id": "7RAJ5jSVWQp2"
      }
    },
    {
      "cell_type": "markdown",
      "source": [
        "Fully connected networks consist of multiple [linear layers](https://pytorch.org/docs/stable/generated/torch.nn.Linear.html). The figure of the architecture is provided below, where the number of nodes is kept small for simplification. \n",
        "\n",
        "![Fully Connected Autoencoder Architecture](https://drive.google.com/uc?export=view&id=1JeDQtjvWVoT5dZhVxesQp_XiqAnUvi1i)\n",
        "\n",
        "In this part, you are requested to implement the layers and the forward function of the model. You should flatten the input image before feeding it to the network and unflatten it when the final activations are obtained. The (input_size, output_size) pairs of the layers should be defined as follows:\n",
        "\n",
        "**Encoder:**\n",
        "- (3\\*32\\*32, 256)\n",
        "- (256, 64)\n",
        "- (64, 16)\n",
        "\n",
        "**Decoder:**\n",
        "- (16, 64)\n",
        "- (64, 256)\n",
        "- (256, 3\\*32\\*32)\n",
        "\n",
        "In each layer, [1D batch normalization](https://pytorch.org/docs/stable/generated/torch.nn.BatchNorm1d.html) should be applied and the resulting values should be passed through a LeakyReLU layer with slope 0.2, which is the activation function. Since the image pixel value range is set to [-1,1] in the dataset, the outputs should be bounded so. Therefore, you should be using a Tanh activation function in the last layer instead of the normalization and LeakyReLU layers."
      ],
      "metadata": {
        "id": "RWwNWG7_erQL"
      }
    },
    {
      "cell_type": "code",
      "source": [
        "class MnistAutoencoderFC(nn.Module):\n",
        "    def __init__(self):\n",
        "        pass # TODO\n",
        "       \n",
        "\n",
        "    def forward(self, x):\n",
        "        pass # TODO"
      ],
      "metadata": {
        "id": "1s8WfhKnd0Lq"
      },
      "execution_count": null,
      "outputs": []
    },
    {
      "cell_type": "markdown",
      "source": [
        "#### **Convolutional Autoencoder [15 Points]**"
      ],
      "metadata": {
        "id": "aSBT7XjHe0h0"
      }
    },
    {
      "cell_type": "markdown",
      "source": [
        "In this part, you are requested to implement an autoencoder model using convolutional layers. The architecture of a convolutional autoencoder is shown in the below figure.\n",
        "\n",
        "![Convolutional Autoencoder Architecture](https://drive.google.com/uc?export=view&id=18Ztf-zhMFC_IXDTnvGCUeGgZx-7duu0o)\n",
        "\n",
        " The (in_channel, out_channel) pairs of the layers should be defined as follows:\n",
        "\n",
        "**Encoder:**\n",
        "- (3, 16)\n",
        "- (16, 32)\n",
        "- (32, 64)\n",
        "\n",
        "**Decoder:**\n",
        "- (64, 32)\n",
        "- (32, 16)\n",
        "- (16, 3)\n",
        "\n",
        "You are free to choose the kernel and padding sizes of the layers. In each layer, [2D batch normalization](https://pytorch.org/docs/stable/generated/torch.nn.BatchNorm2d.html) should be applied and the resulting values should be passed through a LeakyReLU layer with slope 0.2, which is the activation function. Since the image pixel value range is set to [-1,1] in the dataset, the outputs should be bounded so. Therefore, you should be using a Tanh activation function in the last layer instead of the normalization and LeakyReLU layers. \n",
        "\n",
        "In the encoder part of the network, use max pooling in each layer for decreasing the resolution. The stride size should be set to one in these layers. In the decoder network, use [transposed convolution](https://pytorch.org/docs/stable/generated/torch.nn.ConvTranspose2d.html) (deconvolution) layers with stride two for increasing the resolution back. "
      ],
      "metadata": {
        "id": "lw4yXKnke3M_"
      }
    },
    {
      "cell_type": "code",
      "source": [
        "class MnistAutoencoderConv(nn.Module):\n",
        "    def __init__(self):\n",
        "        pass # TODO\n",
        "\n",
        "    def forward(self, x):\n",
        "        pass # TODO"
      ],
      "metadata": {
        "id": "LHSbmwvcUMn6"
      },
      "execution_count": null,
      "outputs": []
    },
    {
      "cell_type": "markdown",
      "source": [
        "### **Implementing the Training Loop [15 Points]**"
      ],
      "metadata": {
        "id": "9YwxmMCrWjtb"
      }
    },
    {
      "cell_type": "markdown",
      "source": [
        "Define your training loop in this function. In the following parts, this function will be called to train both the fully connected and the convolutional autoencoders. The input arguments are provided below. Apply the training progress and return a list of losses that are calculated on each epoch. You should sum the iteration losses up during an epoch and take the mean of them to calculate the running loss of that epoch.\n",
        "\n",
        "To be able to learn inpainting, you should mask the input images as follows:\n",
        "\n",
        "![MNIST Masking](https://drive.google.com/uc?export=view&id=1gIELbRSE188PQHv_uGktPX_2cvAtMbN-)\n",
        "\n",
        "Simply, you should set the input tensor columns starting from 16 to 32 as -1 (black pixel). For the loss function, you should use the original image as the ground truth image so that the network learns how to fill the masked area of the input image and output the restored image. Before assigning the black pixels, do not forget to clone the original image to use it later in the loss function."
      ],
      "metadata": {
        "id": "6xMSf3sofmJz"
      }
    },
    {
      "cell_type": "code",
      "source": [
        "def train_model(model, train_dataloader, optimizer, loss_func, num_epochs):\n",
        "    pass # TODO"
      ],
      "metadata": {
        "id": "cifEP9HEWQde"
      },
      "execution_count": null,
      "outputs": []
    },
    {
      "cell_type": "markdown",
      "source": [
        "### **Implementing the Evaluation Function [15 Points]**"
      ],
      "metadata": {
        "id": "ms6LRikETyds"
      }
    },
    {
      "cell_type": "markdown",
      "source": [
        "Implement an evaluation function that returns the mean MSE calculated over the test dataset samples."
      ],
      "metadata": {
        "id": "3XTr6dpe-0NN"
      }
    },
    {
      "cell_type": "code",
      "source": [
        "def evaluate_model(model, test_dataloader):\n",
        "    pass # TODO"
      ],
      "metadata": {
        "id": "JW-RK7vDT3l9"
      },
      "execution_count": null,
      "outputs": []
    },
    {
      "cell_type": "markdown",
      "source": [
        "### **Inpainting Visualization Function**"
      ],
      "metadata": {
        "id": "UjkRLMF0ZCtk"
      }
    },
    {
      "cell_type": "markdown",
      "source": [
        "The below code will be used to visualize the outputs of the trained models later. \n",
        "\n",
        "**Do not change the cell**"
      ],
      "metadata": {
        "id": "hI4ZNkVq_onm"
      }
    },
    {
      "cell_type": "code",
      "source": [
        "def visualize_inpainting(model, dataset):\n",
        "    seed_everything(464)\n",
        "    dataloader = DataLoader(dataset, batch_size=10, shuffle=True)\n",
        "    images = next(iter(dataloader)) # Taking one batch from the dataloader\n",
        "    images = images\n",
        "    model.eval()\n",
        "    with torch.no_grad():\n",
        "      masked_images = images.clone()\n",
        "      masked_images[:,:,:,16:] = -1\n",
        "      inpainted_images = model(masked_images.cuda()).cpu()\n",
        "    images = (images + 1) / 2\n",
        "    masked_images = (masked_images + 1) / 2\n",
        "    inpainted_images = (inpainted_images + 1) / 2\n",
        "    images_concat = torch.cat((images, masked_images, inpainted_images), dim=2)\n",
        "    grid_img = torchvision.utils.make_grid(images_concat, nrow=10)\n",
        "    plt.axis('off')\n",
        "    plt.imshow(grid_img.permute(1, 2, 0))\n",
        "    plt.show()"
      ],
      "metadata": {
        "id": "VAuNmuIelqzI"
      },
      "execution_count": null,
      "outputs": []
    },
    {
      "cell_type": "markdown",
      "source": [
        "### **Training and Evaluating the FC Model [5 Points]**"
      ],
      "metadata": {
        "id": "C32DbWgOUjKZ"
      }
    },
    {
      "cell_type": "markdown",
      "source": [
        "Define your loss function as MSE, set learning rate to 2e-4, create Adam optimizer, and set number of epochs to 50. Later, call the train_model function that you implemented. Visualize the returned losses on a plot (loss vs. epoch). Lastly, call evaluate_model function that you implemented and print the accuracy the model reached on the test dataset. Also, call the visualize_inpainting function to observe the final inpainting results on the test dataset.\n",
        "\n"
      ],
      "metadata": {
        "id": "lYdoryMh_9HN"
      }
    },
    {
      "cell_type": "code",
      "source": [
        "seed_everything(464)\n",
        "# model_fc = MnistAutoencoderFC() ## Uncomment when the model is implemented\n",
        "\n",
        "# TODO"
      ],
      "metadata": {
        "id": "v50u3FQAWQbI"
      },
      "execution_count": null,
      "outputs": []
    },
    {
      "cell_type": "code",
      "source": [
        "# visualize_inpainting(model_fc, test_dataset) ## Uncomment when the model is trained"
      ],
      "metadata": {
        "id": "vWbXxz6IZPBE"
      },
      "execution_count": null,
      "outputs": []
    },
    {
      "cell_type": "markdown",
      "source": [
        "### **Training and Evaluating the Convolutional Model [5 Points]**"
      ],
      "metadata": {
        "id": "0JOGHIOakmL-"
      }
    },
    {
      "cell_type": "markdown",
      "source": [
        "Apply the same steps given in the FC Autoencoder part."
      ],
      "metadata": {
        "id": "tvkBO1iyA7AG"
      }
    },
    {
      "cell_type": "code",
      "source": [
        "seed_everything(464)\n",
        "# model_conv = MnistAutoencoderConv() ## Uncomment when the model is implemented\n",
        "\n",
        "# TODO"
      ],
      "metadata": {
        "id": "8JhkdYbwiw0s"
      },
      "execution_count": null,
      "outputs": []
    },
    {
      "cell_type": "code",
      "source": [
        "# visualize_inpainting(model_conv, test_dataset) ## Uncomment when the model is trained"
      ],
      "metadata": {
        "id": "IgiD1WG-ZRgf"
      },
      "execution_count": null,
      "outputs": []
    },
    {
      "cell_type": "markdown",
      "source": [
        "### **Discussion [10 Points]**"
      ],
      "metadata": {
        "id": "9yeD6vfptixK"
      }
    },
    {
      "cell_type": "markdown",
      "source": [
        "Discuss the results that you obtained after training the models. Compare the inpainting performances by the visualizations and the accuracy metrics. You can write your answer in the below cell."
      ],
      "metadata": {
        "id": "CEgMTG1QtmtR"
      }
    },
    {
      "cell_type": "markdown",
      "source": [
        "---\n",
        "\n",
        "**Write here**\n",
        "\n",
        "---"
      ],
      "metadata": {
        "id": "ByohpqIyuU3o"
      }
    },
    {
      "cell_type": "code",
      "source": [],
      "metadata": {
        "id": "gQrmrxFzugaG"
      },
      "execution_count": null,
      "outputs": []
    }
  ],
  "metadata": {
    "accelerator": "GPU",
    "colab": {
      "provenance": [],
      "gpuType": "T4",
      "toc_visible": true
    },
    "kernelspec": {
      "display_name": "Python 3 (ipykernel)",
      "language": "python",
      "name": "python3"
    },
    "language_info": {
      "codemirror_mode": {
        "name": "ipython",
        "version": 3
      },
      "file_extension": ".py",
      "mimetype": "text/x-python",
      "name": "python",
      "nbconvert_exporter": "python",
      "pygments_lexer": "ipython3",
      "version": "3.9.12"
    },
    "gpuClass": "standard"
  },
  "nbformat": 4,
  "nbformat_minor": 0
}